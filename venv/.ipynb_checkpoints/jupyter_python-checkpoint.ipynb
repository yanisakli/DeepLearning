{
 "cells": [
  {
   "cell_type": "code",
   "execution_count": 9,
   "metadata": {},
   "outputs": [],
   "source": [
    "from tensorflow.python.keras.models import *\n",
    "from tensorflow.python.keras.layers import *\n",
    "from keras.preprocessing import image\n",
    "from tensorflow.python.keras.callbacks import TensorBoard\n",
    "from time import time\n",
    "import numpy as np\n",
    "import datetime"
   ]
  },
  {
   "cell_type": "code",
   "execution_count": 16,
   "metadata": {},
   "outputs": [
    {
     "name": "stdout",
     "output_type": "stream",
     "text": [
      "Found 8000 images belonging to 2 classes.\n",
      "Found 2000 images belonging to 2 classes.\n",
      "Epoch 1/5\n",
      "10/10 [==============================] - 7s 667ms/step - loss: 0.6934 - accuracy: 0.5125 - val_loss: 0.6951 - val_accuracy: 0.5000\n",
      "Epoch 2/5\n",
      "10/10 [==============================] - 5s 500ms/step - loss: 0.6961 - accuracy: 0.4938 - val_loss: 0.6930 - val_accuracy: 0.5000\n",
      "Epoch 3/5\n",
      "10/10 [==============================] - 5s 487ms/step - loss: 0.6921 - accuracy: 0.5375 - val_loss: 0.6927 - val_accuracy: 0.5000\n",
      "Epoch 4/5\n",
      "10/10 [==============================] - 5s 495ms/step - loss: 0.6937 - accuracy: 0.4938 - val_loss: 0.6922 - val_accuracy: 0.5040\n",
      "Epoch 5/5\n",
      "10/10 [==============================] - 5s 496ms/step - loss: 0.6916 - accuracy: 0.5375 - val_loss: 0.6927 - val_accuracy: 0.5000\n",
      "[[1.]]\n",
      "{'cats': 0, 'dogs': 1}\n"
     ]
    }
   ],
   "source": [
    "classifier = Sequential()\n",
    "\n",
    "classifier.add(Convolution2D(32, 3, 3, input_shape=(64, 64, 3), activation='relu'))\n",
    "\n",
    "classifier.add(MaxPooling2D(pool_size=(2, 2)))\n",
    "\n",
    "classifier.add(Convolution2D(32, 3, 3, activation='relu'))\n",
    "classifier.add(MaxPooling2D(pool_size=(2, 2)))\n",
    "\n",
    "classifier.add(Flatten())\n",
    "\n",
    "classifier.add(Dense(units=128, activation='relu'))\n",
    "classifier.add(Dense(units=1, activation='sigmoid'))\n",
    "\n",
    "classifier.compile(optimizer='adam', loss='binary_crossentropy', metrics=['accuracy'])\n",
    "\n",
    "from keras.preprocessing.image import ImageDataGenerator\n",
    "\n",
    "\n",
    "trainDatagen = ImageDataGenerator(rescale=1. / 255,\n",
    "                                  shear_range=0.2,\n",
    "                                  zoom_range=0.2,\n",
    "                                  horizontal_flip=True)\n",
    "\n",
    "testDatagen = ImageDataGenerator(rescale=1. / 255)\n",
    "\n",
    "training_set = trainDatagen.flow_from_directory('./dataset/training_set',\n",
    "                                                target_size=(64, 64),\n",
    "                                                batch_size=32,\n",
    "                                                class_mode='binary')\n",
    "\n",
    "test_set = testDatagen.flow_from_directory('./dataset/test_set',\n",
    "                                           target_size=(64, 64),\n",
    "                                           batch_size=32,\n",
    "                                           class_mode='binary')\n",
    "\n",
    "classifier.fit_generator(training_set,\n",
    "                         steps_per_epoch=10,\n",
    "                         epochs=5,\n",
    "                         validation_data=test_set,\n",
    "                         max_queue_size=2000)\n",
    "\n",
    "\n",
    "test_image = image.load_img('chat.png',target_size=(64,64))\n",
    "test_image = image.img_to_array(test_image)\n",
    "test_image = np.expand_dims(test_image, axis = 0)\n",
    "result = classifier.predict(test_image)\n",
    "print(result)\n",
    "print(training_set.class_indices)"
   ]
  },
  {
   "cell_type": "code",
   "execution_count": 17,
   "metadata": {},
   "outputs": [
    {
     "data": {
      "text/plain": [
       "array([[1.]], dtype=float32)"
      ]
     },
     "execution_count": 17,
     "metadata": {},
     "output_type": "execute_result"
    }
   ],
   "source": [
    "img = image.load_img('aucun.jpg',target_size=(64,64))\n",
    "img = image.img_to_array(img)\n",
    "img = np.expand_dims(img, axis = 0)\n",
    "\n",
    "model = load_model(\"Model1\")\n",
    "\n",
    "model.predict(img)\n"
   ]
  },
  {
   "cell_type": "code",
   "execution_count": null,
   "metadata": {},
   "outputs": [],
   "source": []
  }
 ],
 "metadata": {
  "kernelspec": {
   "display_name": "Python 3",
   "language": "python",
   "name": "python3"
  },
  "language_info": {
   "codemirror_mode": {
    "name": "ipython",
    "version": 3
   },
   "file_extension": ".py",
   "mimetype": "text/x-python",
   "name": "python",
   "nbconvert_exporter": "python",
   "pygments_lexer": "ipython3",
   "version": "3.7.3"
  }
 },
 "nbformat": 4,
 "nbformat_minor": 2
}
