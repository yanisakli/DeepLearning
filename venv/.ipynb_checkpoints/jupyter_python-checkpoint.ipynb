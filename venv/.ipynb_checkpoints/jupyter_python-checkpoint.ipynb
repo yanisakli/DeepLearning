{
 "cells": [
  {
   "cell_type": "code",
   "execution_count": 24,
   "metadata": {},
   "outputs": [],
   "source": [
    "from tensorflow.python.keras.models import *\n",
    "from tensorflow.python.keras.layers import *\n",
    "from keras.preprocessing import image\n",
    "import numpy as np\n",
    "import datetime"
   ]
  },
  {
   "cell_type": "code",
   "execution_count": null,
   "metadata": {},
   "outputs": [],
   "source": [
    "classifier = Sequential()\n",
    "\n",
    "classifier.add(Convolution2D(32, 3, 3, input_shape=(64, 64, 3), activation='relu'))\n",
    "\n",
    "classifier.add(MaxPooling2D(pool_size=(2, 2)))\n",
    "\n",
    "classifier.add(Convolution2D(32, 3, 3, activation='relu'))\n",
    "classifier.add(MaxPooling2D(pool_size=(2, 2)))\n",
    "\n",
    "classifier.add(Flatten())\n",
    "\n",
    "classifier.add(Dense(units=128, activation='relu'))\n",
    "classifier.add(Dense(units=1, activation='sigmoid'))\n",
    "\n",
    "classifier.compile(optimizer='adam', loss='binary_crossentropy', metrics=['accuracy'])\n",
    "\n",
    "from keras.preprocessing.image import ImageDataGenerator\n",
    "\n",
    "trainDatagen = ImageDataGenerator(rescale=1. / 255,\n",
    "                                  shear_range=0.2,\n",
    "                                  zoom_range=0.2,\n",
    "                                  horizontal_flip=True)\n",
    "\n",
    "testDatagen = ImageDataGenerator(rescale=1. / 255)\n",
    "\n",
    "training_set = trainDatagen.flow_from_directory('./dataset/training_set',\n",
    "                                                target_size=(64, 64),\n",
    "                                                batch_size=32,\n",
    "                                                class_mode='binary')\n",
    "\n",
    "test_set = testDatagen.flow_from_directory('./dataset/test_set',\n",
    "                                           target_size=(64, 64),\n",
    "                                           batch_size=32,\n",
    "                                           class_mode='binary')\n",
    "\n",
    "classifier.fit_generator(training_set,\n",
    "                         steps_per_epoch=8,\n",
    "                         epochs=2,\n",
    "                         validation_data=test_set,\n",
    "                         max_queue_size=2000)\n",
    "\n",
    "test_image = image.load_img('./dog.jpg',target_size=(64,64))\n",
    "test_image = image.img_to_array(test_image)\n",
    "test_image = np.expand_dims(test_image, axis = 0)\n",
    "result = classifier.predict(test_image)\n",
    "print(result)\n",
    "print(training_set.class_indices)\n",
    "\n",
    "\n",
    "now=datetime.datetime.now()\n",
    "print(now.isoformat())\n",
    "\n",
    "#save the training\n",
    "classifier.save(open(\"Model\"+now.isoformat(),\"wb\"))\n",
    "\n",
    "#test the training : load\n",
    "#Model = load_model(\"Model\")\n",
    "\n",
    "#Model.predict(test_image)"
   ]
  }
 ],
 "metadata": {
  "kernelspec": {
   "display_name": "Python 3",
   "language": "python",
   "name": "python3"
  },
  "language_info": {
   "codemirror_mode": {
    "name": "ipython",
    "version": 3
   },
   "file_extension": ".py",
   "mimetype": "text/x-python",
   "name": "python",
   "nbconvert_exporter": "python",
   "pygments_lexer": "ipython3",
   "version": "3.7.3"
  }
 },
 "nbformat": 4,
 "nbformat_minor": 2
}
